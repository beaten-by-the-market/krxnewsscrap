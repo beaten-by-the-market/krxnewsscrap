{
  "nbformat": 4,
  "nbformat_minor": 0,
  "metadata": {
    "colab": {
      "provenance": [],
      "toc_visible": true,
      "authorship_tag": "ABX9TyNmk1/CXWABpKbcSfT+0Dv9",
      "include_colab_link": true
    },
    "kernelspec": {
      "name": "python3",
      "display_name": "Python 3"
    },
    "language_info": {
      "name": "python"
    }
  },
  "cells": [
    {
      "cell_type": "markdown",
      "metadata": {
        "id": "view-in-github",
        "colab_type": "text"
      },
      "source": [
        "<a href=\"https://colab.research.google.com/github/beaten-by-the-market/krxnewsscrap/blob/main/krxvsnxt.ipynb\" target=\"_parent\"><img src=\"https://colab.research.google.com/assets/colab-badge.svg\" alt=\"Open In Colab\"/></a>"
      ]
    },
    {
      "cell_type": "markdown",
      "source": [
        "## 파이썬 세팅하기"
      ],
      "metadata": {
        "id": "RIe_qdFoY9ia"
      }
    },
    {
      "cell_type": "code",
      "execution_count": 46,
      "metadata": {
        "id": "FdW7h8wrD749"
      },
      "outputs": [],
      "source": [
        "#-----------------------------------------------------------\n",
        "#필요한 패키지 import\n",
        "#-----------------------------------------------------------\n",
        "import pandas as pd\n",
        "import requests\n",
        "from io import BytesIO"
      ]
    },
    {
      "cell_type": "markdown",
      "source": [
        "## 넥스트레이드 종목 시세 불러오기"
      ],
      "metadata": {
        "id": "2yAw1BQscCAO"
      }
    },
    {
      "cell_type": "code",
      "source": [
        "url = 'https://www.nextrade.co.kr/brdinfoTime/brdinfoTimeList.do'\n",
        "\n",
        "params = {\n",
        "    \"_search\": False,\n",
        "    \"nd\": 1741074199874,\n",
        "    \"pageUnit\": 900,\n",
        "    \"pageIndex\": 1,\n",
        "    \"sidx\": \"\",\n",
        "    \"sord\": \"asc\"\n",
        "}\n",
        "\n",
        "\n",
        "# POST 요청\n",
        "response = requests.post(url, params=params)\n",
        "data = response.json()  # JSON 데이터 변환\n",
        "\n",
        "# 필요한 데이터 리스트 추출\n",
        "brdinfo_list = data.get(\"brdinfoTimeList\", [])\n",
        "\n",
        "# 데이터프레임 전환\n",
        "df1 = pd.DataFrame(brdinfo_list)\n",
        "df_nxt = df1[['isuSrdCd', 'isuAbwdNm', 'mktNm', 'curPrc', 'contrastPrc', 'upDownRate', 'oppr', 'hgpr', 'lwpr', 'accTdQty', 'accTrval', 'tdhlYn']]\n",
        "\n",
        "# 데이터프레임으로 변환할 컬럼 정의\n",
        "df_nxt.columns = ['종목코드', '종목명', '시장구분', '현재가', '대비', '등락률', '시가', '고가', '저가', '거래량', '거래대금', '거래정지']\n",
        "\n",
        "#종목코드의 첫 앞의 A를 제거하기\n",
        "df_nxt = df_nxt.copy()  # 명시적으로 새로운 데이터프레임 생성\n",
        "df_nxt['종목코드'] = df_nxt['종목코드'].str.replace('A', '', regex=True)\n",
        "\n",
        "# 필요한 칼럼만 남기기\n",
        "df_nxt = df_nxt[['종목코드', '종목명', '시장구분', '현재가', '등락률', '거래량', '거래대금']]\n",
        "\n",
        "# 칼럼명 변경하기\n",
        "df_nxt = df_nxt.rename(columns={'현재가': 'NXT현재가', '등락률': 'NXT등락률', '거래량': 'NXT거래량', '거래대금':'NXT거래대금'})"
      ],
      "metadata": {
        "id": "CGzpz8s2HeTI"
      },
      "execution_count": 47,
      "outputs": []
    },
    {
      "cell_type": "markdown",
      "source": [
        "## 한국거래소 시세 불러오기"
      ],
      "metadata": {
        "id": "i4T_dUVGb7os"
      }
    },
    {
      "cell_type": "code",
      "source": [
        "#-----------------------------------------------------------\n",
        "#정보데이터시스템에서 불러오는 과정\n",
        "#-----------------------------------------------------------\n",
        "\n",
        "#[12001] 전종목 시세\n",
        "#거래소 홈페이지에서 불러오기\n",
        "gen_otp_url = 'http://data.krx.co.kr/comm/fileDn/GenerateOTP/generate.cmd'\n",
        "gen_otp = {\n",
        "    'locale' : 'ko_KR',\n",
        "    'mktId': 'ALL',\n",
        "    'trdDd': '20250304',\n",
        "    'share': '1',\n",
        "    'money': '1',\n",
        "    'csvxls_isNo': 'false',\n",
        "    'name': 'fileDown',\n",
        "    'url': 'dbms/MDC/STAT/standard/MDCSTAT01501'\n",
        "    }\n",
        "\n",
        "headers = {'Referer' : 'http://data.krx.co.kr/contents/MDC/MDI/mdiLoader/index.cmd?menuId=MDC0201020201',\n",
        "           'User-Agent': 'Mozilla/5.0 (Windows NT 10.0; Win64; x64) AppleWebKit/537.36 (KHTML, like Gecko) Chrome/91.0.4472.124 Safari/537.36'}\n",
        "\n",
        "otp = requests.post(gen_otp_url, gen_otp, headers = headers).text\n",
        "\n",
        "down_url = 'http://data.krx.co.kr/comm/fileDn/download_csv/download.cmd'\n",
        "down_content = requests.post(down_url, {'code': otp}, headers = headers)\n",
        "\n",
        "\n",
        "df_krx = pd.read_csv(BytesIO(down_content.content), encoding = 'EUC-KR')\n",
        "df_krx['시장구분'] = df_krx['시장구분'].replace('KOSDAQ GLOBAL', 'KOSDAQ')\n",
        "df_krx = df_krx.rename(columns=({'단축코드':'stock_code'}))\n",
        "\n",
        "# 필요한 칼럼만 남기기\n",
        "df_krx = df_krx[['종목코드', '종가', '등락률', '거래량', '거래대금', '시가총액']]\n",
        "\n",
        "# 칼럼명 변경하기\n",
        "df_krx = df_krx.rename(columns={'종가': 'KRX종가','등락률': 'KRX종가등락률', '거래량': 'KRX거래량', '거래대금': 'KRX거래대금'})"
      ],
      "metadata": {
        "id": "HSMa81AgVQcP"
      },
      "execution_count": 42,
      "outputs": []
    },
    {
      "cell_type": "markdown",
      "source": [
        "## 합치고 출력하기"
      ],
      "metadata": {
        "id": "X7fsC-D1fZOD"
      }
    },
    {
      "cell_type": "code",
      "source": [
        "# 합치기\n",
        "df_agg = pd.merge(df_nxt, df_krx, on='종목코드', how='left')\n",
        "\n",
        "# KRX 대비 NXT의 거래량 비중을 %로 계산하여 '비중'이라는 칼럼 만들기\n",
        "df_agg['비중'] = 100*(df_agg['NXT거래량']/df_agg['KRX거래량'])\n",
        "\n",
        "# 넥스트레이드 기준 날짜 및 시각 출력\n",
        "if data.get(\"brdinfoTimeList\"):\n",
        "    now_date = data[\"brdinfoTimeList\"][0].get(\"nowDd\", \"날짜 없음\")\n",
        "    now_time = data[\"brdinfoTimeList\"][0].get(\"nowTime\", \"시간 없음\")\n",
        "    print(f\"넥스트레이드 기준 날짜: {now_date}, 기준 시각: {now_time}\")\n",
        "else:\n",
        "    print(\"데이터가 없습니다.\")\n",
        "\n",
        "# **추가: 전체 거래량 합산 및 비율 계산**\n",
        "total_nxt_vol = df_agg['NXT거래량'].sum()\n",
        "total_krx_vol = df_agg['KRX거래량'].sum()\n",
        "nxt_vs_krx_ratio = (total_nxt_vol / total_krx_vol) * 100 if total_krx_vol > 0 else 0\n",
        "\n",
        "# 상단에 정보 추가\n",
        "print(f\"📌 오늘 NXT는 KRX의 거래량 대비 **{nxt_vs_krx_ratio:.2f}%**를 기록했습니다.\\n\\n\")\n",
        "print(df_agg.to_markdown())\n",
        "df_agg"
      ],
      "metadata": {
        "colab": {
          "base_uri": "https://localhost:8080/"
        },
        "id": "FRjNFPgEPjhl",
        "outputId": "02ecdae4-14e3-4c0e-ac0b-7875813dbe8a"
      },
      "execution_count": 52,
      "outputs": [
        {
          "output_type": "stream",
          "name": "stdout",
          "text": [
            "넥스트레이드 기준 날짜: 20250304, 기준 시각: 1829\n",
            "📌 오늘 NXT는 KRX의 거래량 대비 **16.29%**를 기록했습니다.\n",
            "\n",
            "\n",
            "|    |   종목코드 | 종목명             | 시장구분   |   NXT현재가 |   NXT등락률 |   NXT거래량 |   NXT거래대금 |   KRX종가 |   KRX종가등락률 |   KRX거래량 |   KRX거래대금 |      시가총액 |     비중 |\n",
            "|---:|-----------:|:-------------------|:-----------|------------:|------------:|------------:|--------------:|----------:|----------------:|------------:|--------------:|--------------:|---------:|\n",
            "|  0 |     122870 | 와이지엔터테인먼트 | KOSDAQ     |       66400 |        5.4  |      207028 |   13662275800 |     66000 |            4.76 |      503997 |   32409235650 | 1233609234000 | 41.0772  |\n",
            "|  1 |     120110 | 코오롱인더         | KOSPI      |       34400 |        2.99 |       36844 |    1260788175 |     34450 |            3.14 |      148940 |    5057190525 |  948032684950 | 24.7375  |\n",
            "|  2 |     032640 | LG유플러스         | KOSPI      |       10580 |        0    |       67133 |     710048260 |     10500 |           -0.76 |      937660 |    9927955700 | 4584419290500 |  7.15963 |\n",
            "|  3 |     010950 | S-Oil              | KOSPI      |       56000 |       -1.58 |       12657 |     709063650 |     55700 |           -2.11 |      139504 |    7823810450 | 6270861514400 |  9.07286 |\n",
            "|  4 |     056190 | 에스에프에이       | KOSDAQ     |       19490 |       -1.07 |       15233 |     295533445 |     19450 |           -1.27 |      239593 |    4657475200 |  698425382000 |  6.35787 |\n",
            "|  5 |     023530 | 롯데쇼핑           | KOSPI      |       62500 |       -0.95 |        4615 |     289311850 |     62500 |           -0.95 |       36835 |    2315584950 | 1768047187500 | 12.5288  |\n",
            "|  6 |     078340 | 컴투스             | KOSDAQ     |       45850 |        2.12 |        6081 |     278084725 |     45700 |            1.78 |       32642 |    1479357450 |  582115403500 | 18.6294  |\n",
            "|  7 |     086450 | 동국제약           | KOSDAQ     |       15680 |        0.84 |       15372 |     240225255 |     15540 |           -0.06 |       85928 |    1339571835 |  690908400000 | 17.8894  |\n",
            "|  8 |     030000 | 제일기획           | KOSPI      |       17760 |       -0.62 |       10591 |     187999670 |     17690 |           -1.01 |      182205 |    3241310470 | 2035079270250 |  5.81268 |\n",
            "|  9 |     215000 | 골프존             | KOSDAQ     |       58500 |       -1.18 |        2052 |     120164950 |     58400 |           -1.35 |       10752 |     630434500 |  366484236000 | 19.0848  |\n"
          ]
        }
      ]
    }
  ]
}